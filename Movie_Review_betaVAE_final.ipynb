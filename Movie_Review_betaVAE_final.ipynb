{
  "nbformat": 4,
  "nbformat_minor": 0,
  "metadata": {
    "colab": {
      "name": "Movie_Review_betaVAE_final.ipynb",
      "provenance": []
    },
    "kernelspec": {
      "name": "python3",
      "display_name": "Python 3"
    },
    "accelerator": "GPU"
  },
  "cells": [
    {
      "cell_type": "code",
      "metadata": {
        "id": "dcSgQWHQgvxl",
        "colab_type": "code",
        "outputId": "4f203104-094e-4f55-e315-044fe1b89991",
        "colab": {
          "base_uri": "https://localhost:8080/",
          "height": 80
        }
      },
      "source": [
        "from keras import objectives, backend as K\n",
        "from keras.layers import Bidirectional, Dense, Embedding, Input, Lambda, LSTM, RepeatVector, TimeDistributed, CuDNNLSTM\n",
        "from keras.models import Model\n",
        "import keras"
      ],
      "execution_count": 0,
      "outputs": [
        {
          "output_type": "stream",
          "text": [
            "Using TensorFlow backend.\n"
          ],
          "name": "stderr"
        },
        {
          "output_type": "display_data",
          "data": {
            "text/html": [
              "<p style=\"color: red;\">\n",
              "The default version of TensorFlow in Colab will soon switch to TensorFlow 2.x.<br>\n",
              "We recommend you <a href=\"https://www.tensorflow.org/guide/migrate\" target=\"_blank\">upgrade</a> now \n",
              "or ensure your notebook will continue to use TensorFlow 1.x via the <code>%tensorflow_version 1.x</code> magic:\n",
              "<a href=\"https://colab.research.google.com/notebooks/tensorflow_version.ipynb\" target=\"_blank\">more info</a>.</p>\n"
            ],
            "text/plain": [
              "<IPython.core.display.HTML object>"
            ]
          },
          "metadata": {
            "tags": []
          }
        }
      ]
    },
    {
      "cell_type": "code",
      "metadata": {
        "id": "EID_mmDug7-4",
        "colab_type": "code",
        "colab": {}
      },
      "source": [
        "class VAE(object):\n",
        "    def create(self, vocab_size=500, max_length=300, latent_rep_size=200):\n",
        "        self.encoder = None\n",
        "        self.decoder = None\n",
        "        self.sentiment_predictor = None\n",
        "        self.autoencoder = None\n",
        "\n",
        "        x = Input(shape=(max_length,))\n",
        "        x_embed = Embedding(vocab_size, 64, input_length=max_length)(x)\n",
        "\n",
        "        vae_loss, encoded = self._build_encoder(x_embed, latent_rep_size=latent_rep_size, max_length=max_length)\n",
        "        self.encoder = Model(inputs=x, outputs=encoded)\n",
        "\n",
        "        encoded_input = Input(shape=(latent_rep_size,))\n",
        "        predicted_sentiment = self._build_sentiment_predictor(encoded_input)\n",
        "        self.sentiment_predictor = Model(encoded_input, predicted_sentiment)\n",
        "\n",
        "        decoded = self._build_decoder(encoded_input, vocab_size, max_length)\n",
        "        self.decoder = Model(encoded_input, decoded)\n",
        "\n",
        "        self.autoencoder = Model(inputs=x, outputs=[self._build_decoder(encoded, vocab_size, max_length), self._build_sentiment_predictor(encoded)])\n",
        "        self.autoencoder.compile(optimizer='Adam',\n",
        "                                 loss=[vae_loss, 'binary_crossentropy'],\n",
        "                                 metrics=['accuracy'])\n",
        "        \n",
        "    def _build_encoder(self, x, latent_rep_size=200, max_length=300, epsilon_std=0.01):\n",
        "        h = Bidirectional(CuDNNLSTM(500, return_sequences=True, name='lstm_1'), merge_mode='concat')(x)\n",
        "        h = Bidirectional(CuDNNLSTM(500, return_sequences=False, name='lstm_2'), merge_mode='concat')(h)\n",
        "        h = Dense(435, activation='relu', name='dense_1')(h)\n",
        "\n",
        "        def sampling(args):\n",
        "            z_mean_, z_log_var_ = args\n",
        "            batch_size = K.shape(z_mean_)[0]\n",
        "            epsilon = K.random_normal(shape=(batch_size, latent_rep_size), mean=0., stddev=epsilon_std)\n",
        "            return z_mean_ + K.exp(z_log_var_ / 2) * epsilon\n",
        "\n",
        "        z_mean = Dense(latent_rep_size, name='z_mean', activation='linear')(h)\n",
        "        z_log_var = Dense(latent_rep_size, name='z_log_var', activation='linear')(h)\n",
        "\n",
        "        def vae_loss(x, x_decoded_mean):\n",
        "            x = K.flatten(x)\n",
        "            x_decoded_mean = K.flatten(x_decoded_mean)\n",
        "            xent_loss = max_length * objectives.binary_crossentropy(x, x_decoded_mean)\n",
        "            kl_loss = - 0.5 * K.mean(1 + z_log_var - K.square(z_mean) - K.exp(z_log_var), axis=-1)\n",
        "            return xent_loss + 250*kl_loss\n",
        "\n",
        "        return (vae_loss, Lambda(sampling, output_shape=(latent_rep_size,), name='lambda')([z_mean, z_log_var]))\n",
        "    def _build_decoder(self, encoded, vocab_size, max_length):\n",
        "        repeated_context = RepeatVector(max_length)(encoded)\n",
        "\n",
        "        h = CuDNNLSTM(500, return_sequences=True, name='dec_lstm_1')(repeated_context)\n",
        "        h = CuDNNLSTM(500, return_sequences=True, name='dec_lstm_2')(h)\n",
        "\n",
        "        decoded = TimeDistributed(Dense(vocab_size, activation='softmax'), name='decoded_mean')(h)\n",
        "\n",
        "        return decoded\n",
        "    \n",
        "    def _build_sentiment_predictor(self, encoded):\n",
        "        h = Dense(100, activation='linear')(encoded)\n",
        "\n",
        "        return Dense(1, activation='sigmoid', name='pred')(h)"
      ],
      "execution_count": 0,
      "outputs": []
    },
    {
      "cell_type": "code",
      "metadata": {
        "id": "DtmxfVymjlrN",
        "colab_type": "code",
        "colab": {}
      },
      "source": [
        "from keras.callbacks import ModelCheckpoint\n",
        "from keras.datasets import imdb\n",
        "from keras.preprocessing.sequence import pad_sequences\n",
        "# from model import VAE\n",
        "import numpy as np\n",
        "import os"
      ],
      "execution_count": 0,
      "outputs": []
    },
    {
      "cell_type": "code",
      "metadata": {
        "id": "7vt0iDFHjonG",
        "colab_type": "code",
        "colab": {}
      },
      "source": [
        "MAX_LENGTH = 300\n",
        "NUM_WORDS = 1000"
      ],
      "execution_count": 0,
      "outputs": []
    },
    {
      "cell_type": "code",
      "metadata": {
        "id": "4mduzTeejy6X",
        "colab_type": "code",
        "outputId": "090f1437-e779-478d-f414-acd9055070b7",
        "colab": {
          "base_uri": "https://localhost:8080/",
          "height": 136
        }
      },
      "source": [
        "(X_train, y_train), (X_test, y_test) = imdb.load_data(num_words=NUM_WORDS)\n",
        "\n",
        "print(\"Training data\")\n",
        "print(X_train.shape)\n",
        "print(y_train.shape)\n",
        "\n",
        "print(\"Number of words:\")\n",
        "print(len(np.unique(np.hstack(X_train))))"
      ],
      "execution_count": 0,
      "outputs": [
        {
          "output_type": "stream",
          "text": [
            "Downloading data from https://s3.amazonaws.com/text-datasets/imdb.npz\n",
            "17465344/17464789 [==============================] - 1s 0us/step\n",
            "Training data\n",
            "(25000,)\n",
            "(25000,)\n",
            "Number of words:\n",
            "998\n"
          ],
          "name": "stdout"
        }
      ]
    },
    {
      "cell_type": "code",
      "metadata": {
        "id": "7K5o2cusj1Ts",
        "colab_type": "code",
        "colab": {}
      },
      "source": [
        "X_train = pad_sequences(X_train, maxlen=MAX_LENGTH)\n",
        "X_test = pad_sequences(X_test, maxlen=MAX_LENGTH)\n",
        "\n",
        "train_indices = np.random.choice(np.arange(X_train.shape[0]), 2000, replace=False)\n",
        "test_indices = np.random.choice(np.arange(X_test.shape[0]), 1000, replace=False)\n",
        "\n",
        "X_train = X_train[train_indices]\n",
        "y_train = y_train[train_indices]\n",
        "\n",
        "X_test = X_test[test_indices]\n",
        "y_test = y_test[test_indices]"
      ],
      "execution_count": 0,
      "outputs": []
    },
    {
      "cell_type": "code",
      "metadata": {
        "id": "VzpdoDsQj6Qb",
        "colab_type": "code",
        "outputId": "a9ab8358-d734-47ce-d992-7faca66e7cbe",
        "colab": {
          "base_uri": "https://localhost:8080/",
          "height": 34
        }
      },
      "source": [
        "print(train_indices)"
      ],
      "execution_count": 0,
      "outputs": [
        {
          "output_type": "stream",
          "text": [
            "[18018  3446 12906 ... 15546 20870 18465]\n"
          ],
          "name": "stdout"
        }
      ]
    },
    {
      "cell_type": "code",
      "metadata": {
        "id": "1pT_mS78kQw-",
        "colab_type": "code",
        "colab": {}
      },
      "source": [
        "temp = np.zeros((X_train.shape[0], MAX_LENGTH, NUM_WORDS))\n",
        "temp[np.expand_dims(np.arange(X_train.shape[0]), axis=0).reshape(X_train.shape[0], 1), np.repeat(np.array([np.arange(MAX_LENGTH)]), X_train.shape[0], axis=0), X_train] = 1\n",
        "\n",
        "X_train_one_hot = temp\n",
        "\n",
        "temp = np.zeros((X_test.shape[0], MAX_LENGTH, NUM_WORDS))\n",
        "temp[np.expand_dims(np.arange(X_test.shape[0]), axis=0).reshape(X_test.shape[0], 1), np.repeat(np.array([np.arange(MAX_LENGTH)]), X_test.shape[0], axis=0), X_test] = 1\n",
        "\n",
        "x_test_one_hot = temp"
      ],
      "execution_count": 0,
      "outputs": []
    },
    {
      "cell_type": "code",
      "metadata": {
        "id": "TxRqhqZ7kvNo",
        "colab_type": "code",
        "outputId": "be1cf2a1-fdbc-4ad2-833f-c9a2ae6d0cb3",
        "colab": {
          "base_uri": "https://localhost:8080/",
          "height": 850
        }
      },
      "source": [
        "print(X_train_one_hot)"
      ],
      "execution_count": 0,
      "outputs": [
        {
          "output_type": "stream",
          "text": [
            "[[[1. 0. 0. ... 0. 0. 0.]\n",
            "  [1. 0. 0. ... 0. 0. 0.]\n",
            "  [1. 0. 0. ... 0. 0. 0.]\n",
            "  ...\n",
            "  [0. 0. 0. ... 0. 0. 0.]\n",
            "  [0. 0. 0. ... 0. 0. 0.]\n",
            "  [0. 0. 1. ... 0. 0. 0.]]\n",
            "\n",
            " [[1. 0. 0. ... 0. 0. 0.]\n",
            "  [1. 0. 0. ... 0. 0. 0.]\n",
            "  [1. 0. 0. ... 0. 0. 0.]\n",
            "  ...\n",
            "  [0. 0. 0. ... 0. 0. 0.]\n",
            "  [0. 0. 0. ... 0. 0. 0.]\n",
            "  [0. 0. 0. ... 0. 0. 0.]]\n",
            "\n",
            " [[0. 0. 0. ... 0. 0. 0.]\n",
            "  [0. 0. 0. ... 0. 0. 0.]\n",
            "  [0. 0. 0. ... 0. 0. 0.]\n",
            "  ...\n",
            "  [0. 0. 0. ... 0. 0. 0.]\n",
            "  [0. 0. 0. ... 0. 0. 0.]\n",
            "  [0. 0. 0. ... 0. 0. 0.]]\n",
            "\n",
            " ...\n",
            "\n",
            " [[1. 0. 0. ... 0. 0. 0.]\n",
            "  [1. 0. 0. ... 0. 0. 0.]\n",
            "  [1. 0. 0. ... 0. 0. 0.]\n",
            "  ...\n",
            "  [0. 0. 0. ... 0. 0. 0.]\n",
            "  [0. 0. 1. ... 0. 0. 0.]\n",
            "  [0. 0. 0. ... 0. 0. 0.]]\n",
            "\n",
            " [[1. 0. 0. ... 0. 0. 0.]\n",
            "  [1. 0. 0. ... 0. 0. 0.]\n",
            "  [1. 0. 0. ... 0. 0. 0.]\n",
            "  ...\n",
            "  [0. 0. 0. ... 0. 0. 0.]\n",
            "  [0. 0. 0. ... 0. 0. 0.]\n",
            "  [0. 0. 0. ... 0. 0. 0.]]\n",
            "\n",
            " [[0. 0. 0. ... 0. 0. 0.]\n",
            "  [0. 0. 0. ... 0. 0. 0.]\n",
            "  [0. 0. 0. ... 0. 0. 0.]\n",
            "  ...\n",
            "  [0. 0. 0. ... 0. 0. 0.]\n",
            "  [0. 0. 0. ... 0. 0. 0.]\n",
            "  [0. 0. 0. ... 0. 0. 0.]]]\n"
          ],
          "name": "stdout"
        }
      ]
    },
    {
      "cell_type": "code",
      "metadata": {
        "id": "U-rR6aKqkzqj",
        "colab_type": "code",
        "colab": {}
      },
      "source": [
        "def create_model_checkpoint(dir, model_name):\n",
        "    filepath = dir + '/' + \\\n",
        "               model_name + \"-{epoch:02d}-{val_decoded_mean_acc:.2f}-{val_pred_loss:.2f}.h5\"\n",
        "    directory = os.path.dirname(filepath)\n",
        "\n",
        "    try:\n",
        "        os.stat(directory)\n",
        "    except:\n",
        "        os.mkdir(directory)\n",
        "\n",
        "    checkpointer = ModelCheckpoint(filepath=filepath,\n",
        "                                   verbose=1,\n",
        "                                   save_best_only=False)\n",
        "\n",
        "    return checkpointer"
      ],
      "execution_count": 0,
      "outputs": []
    },
    {
      "cell_type": "code",
      "metadata": {
        "id": "_Etrj5IilD23",
        "colab_type": "code",
        "colab": {}
      },
      "source": [
        "model = VAE()\n",
        "def train():\n",
        "    # model = VAE()\n",
        "    model.create(vocab_size=NUM_WORDS, max_length=MAX_LENGTH)\n",
        "\n",
        "    checkpointer = create_model_checkpoint('drive/My Drive/imdb/model_100', 'rnn_ae')\n",
        "\n",
        "    model.autoencoder.fit(x=X_train, y={'decoded_mean': X_train_one_hot, 'pred': y_train},\n",
        "                          batch_size=10, epochs=50, callbacks=[checkpointer],\n",
        "                          validation_data=(X_test, {'decoded_mean': x_test_one_hot, 'pred':  y_test}))"
      ],
      "execution_count": 0,
      "outputs": []
    },
    {
      "cell_type": "code",
      "metadata": {
        "id": "YIgR_XdSlO7q",
        "colab_type": "code",
        "outputId": "bdf17177-9305-42c8-b7f0-b15c364c84cc",
        "colab": {
          "base_uri": "https://localhost:8080/",
          "height": 1000
        }
      },
      "source": [
        "train()"
      ],
      "execution_count": 0,
      "outputs": [
        {
          "output_type": "stream",
          "text": [
            "Train on 2000 samples, validate on 1000 samples\n",
            "Epoch 1/50\n",
            "2000/2000 [==============================] - 90s 45ms/step - loss: 2.1476 - decoded_mean_loss: 1.4548 - pred_loss: 0.6928 - decoded_mean_acc: 0.3434 - pred_acc: 0.5255 - val_loss: 2.0765 - val_decoded_mean_loss: 1.3823 - val_pred_loss: 0.6942 - val_decoded_mean_acc: 0.3656 - val_pred_acc: 0.4890\n",
            "\n",
            "Epoch 00001: saving model to drive/My Drive/imdb/model_100/rnn_ae-01-0.37-0.69.h5\n",
            "Epoch 2/50\n",
            "2000/2000 [==============================] - 86s 43ms/step - loss: 2.0629 - decoded_mean_loss: 1.3690 - pred_loss: 0.6939 - decoded_mean_acc: 0.3754 - pred_acc: 0.5130 - val_loss: 2.0313 - val_decoded_mean_loss: 1.3305 - val_pred_loss: 0.7008 - val_decoded_mean_acc: 0.4038 - val_pred_acc: 0.4830\n",
            "\n",
            "Epoch 00002: saving model to drive/My Drive/imdb/model_100/rnn_ae-02-0.40-0.70.h5\n",
            "Epoch 3/50\n",
            "2000/2000 [==============================] - 86s 43ms/step - loss: 2.0357 - decoded_mean_loss: 1.3420 - pred_loss: 0.6937 - decoded_mean_acc: 0.4050 - pred_acc: 0.5175 - val_loss: 2.0127 - val_decoded_mean_loss: 1.3197 - val_pred_loss: 0.6930 - val_decoded_mean_acc: 0.4169 - val_pred_acc: 0.5140\n",
            "\n",
            "Epoch 00003: saving model to drive/My Drive/imdb/model_100/rnn_ae-03-0.42-0.69.h5\n",
            "Epoch 4/50\n",
            "2000/2000 [==============================] - 86s 43ms/step - loss: 2.0319 - decoded_mean_loss: 1.3390 - pred_loss: 0.6930 - decoded_mean_acc: 0.4049 - pred_acc: 0.5275 - val_loss: 2.0147 - val_decoded_mean_loss: 1.3181 - val_pred_loss: 0.6966 - val_decoded_mean_acc: 0.4134 - val_pred_acc: 0.4830\n",
            "\n",
            "Epoch 00004: saving model to drive/My Drive/imdb/model_100/rnn_ae-04-0.41-0.70.h5\n",
            "Epoch 5/50\n",
            "2000/2000 [==============================] - 86s 43ms/step - loss: 2.0246 - decoded_mean_loss: 1.3315 - pred_loss: 0.6930 - decoded_mean_acc: 0.4112 - pred_acc: 0.5225 - val_loss: 2.0133 - val_decoded_mean_loss: 1.3164 - val_pred_loss: 0.6969 - val_decoded_mean_acc: 0.4147 - val_pred_acc: 0.4830\n",
            "\n",
            "Epoch 00005: saving model to drive/My Drive/imdb/model_100/rnn_ae-05-0.41-0.70.h5\n",
            "Epoch 6/50\n",
            "2000/2000 [==============================] - 86s 43ms/step - loss: 2.0241 - decoded_mean_loss: 1.3307 - pred_loss: 0.6934 - decoded_mean_acc: 0.4103 - pred_acc: 0.5180 - val_loss: 2.0040 - val_decoded_mean_loss: 1.3079 - val_pred_loss: 0.6961 - val_decoded_mean_acc: 0.4190 - val_pred_acc: 0.4830\n",
            "\n",
            "Epoch 00006: saving model to drive/My Drive/imdb/model_100/rnn_ae-06-0.42-0.70.h5\n",
            "Epoch 7/50\n",
            "2000/2000 [==============================] - 86s 43ms/step - loss: 2.0225 - decoded_mean_loss: 1.3301 - pred_loss: 0.6924 - decoded_mean_acc: 0.4102 - pred_acc: 0.5125 - val_loss: 2.0042 - val_decoded_mean_loss: 1.3088 - val_pred_loss: 0.6954 - val_decoded_mean_acc: 0.4168 - val_pred_acc: 0.4830\n",
            "\n",
            "Epoch 00007: saving model to drive/My Drive/imdb/model_100/rnn_ae-07-0.42-0.70.h5\n",
            "Epoch 8/50\n",
            "2000/2000 [==============================] - 86s 43ms/step - loss: 2.0223 - decoded_mean_loss: 1.3291 - pred_loss: 0.6932 - decoded_mean_acc: 0.4109 - pred_acc: 0.5075 - val_loss: 2.0121 - val_decoded_mean_loss: 1.3157 - val_pred_loss: 0.6965 - val_decoded_mean_acc: 0.4138 - val_pred_acc: 0.4830\n",
            "\n",
            "Epoch 00008: saving model to drive/My Drive/imdb/model_100/rnn_ae-08-0.41-0.70.h5\n",
            "Epoch 9/50\n",
            "2000/2000 [==============================] - 86s 43ms/step - loss: 2.0217 - decoded_mean_loss: 1.3290 - pred_loss: 0.6927 - decoded_mean_acc: 0.4109 - pred_acc: 0.5185 - val_loss: 2.0123 - val_decoded_mean_loss: 1.3169 - val_pred_loss: 0.6954 - val_decoded_mean_acc: 0.4148 - val_pred_acc: 0.4830\n",
            "\n",
            "Epoch 00009: saving model to drive/My Drive/imdb/model_100/rnn_ae-09-0.41-0.70.h5\n",
            "Epoch 10/50\n",
            "2000/2000 [==============================] - 87s 43ms/step - loss: 2.0241 - decoded_mean_loss: 1.3315 - pred_loss: 0.6927 - decoded_mean_acc: 0.4090 - pred_acc: 0.5230 - val_loss: 2.0086 - val_decoded_mean_loss: 1.3138 - val_pred_loss: 0.6948 - val_decoded_mean_acc: 0.4163 - val_pred_acc: 0.4830\n",
            "\n",
            "Epoch 00010: saving model to drive/My Drive/imdb/model_100/rnn_ae-10-0.42-0.69.h5\n",
            "Epoch 11/50\n",
            "2000/2000 [==============================] - 86s 43ms/step - loss: 2.0225 - decoded_mean_loss: 1.3301 - pred_loss: 0.6924 - decoded_mean_acc: 0.4097 - pred_acc: 0.5220 - val_loss: 2.0034 - val_decoded_mean_loss: 1.3099 - val_pred_loss: 0.6935 - val_decoded_mean_acc: 0.4187 - val_pred_acc: 0.4770\n",
            "\n",
            "Epoch 00011: saving model to drive/My Drive/imdb/model_100/rnn_ae-11-0.42-0.69.h5\n",
            "Epoch 12/50\n",
            "2000/2000 [==============================] - 86s 43ms/step - loss: 2.0224 - decoded_mean_loss: 1.3298 - pred_loss: 0.6926 - decoded_mean_acc: 0.4100 - pred_acc: 0.5225 - val_loss: 2.0035 - val_decoded_mean_loss: 1.3083 - val_pred_loss: 0.6952 - val_decoded_mean_acc: 0.4188 - val_pred_acc: 0.4830\n",
            "\n",
            "Epoch 00012: saving model to drive/My Drive/imdb/model_100/rnn_ae-12-0.42-0.70.h5\n",
            "Epoch 13/50\n",
            "2000/2000 [==============================] - 87s 43ms/step - loss: 2.0201 - decoded_mean_loss: 1.3278 - pred_loss: 0.6923 - decoded_mean_acc: 0.4115 - pred_acc: 0.5225 - val_loss: 2.0094 - val_decoded_mean_loss: 1.3115 - val_pred_loss: 0.6979 - val_decoded_mean_acc: 0.4170 - val_pred_acc: 0.4830\n",
            "\n",
            "Epoch 00013: saving model to drive/My Drive/imdb/model_100/rnn_ae-13-0.42-0.70.h5\n",
            "Epoch 14/50\n",
            "2000/2000 [==============================] - 87s 44ms/step - loss: 2.0214 - decoded_mean_loss: 1.3284 - pred_loss: 0.6930 - decoded_mean_acc: 0.4111 - pred_acc: 0.5225 - val_loss: 2.0028 - val_decoded_mean_loss: 1.3083 - val_pred_loss: 0.6946 - val_decoded_mean_acc: 0.4183 - val_pred_acc: 0.4830\n",
            "\n",
            "Epoch 00014: saving model to drive/My Drive/imdb/model_100/rnn_ae-14-0.42-0.69.h5\n",
            "Epoch 15/50\n",
            "2000/2000 [==============================] - 87s 43ms/step - loss: 2.0199 - decoded_mean_loss: 1.3274 - pred_loss: 0.6925 - decoded_mean_acc: 0.4119 - pred_acc: 0.5225 - val_loss: 2.0050 - val_decoded_mean_loss: 1.3097 - val_pred_loss: 0.6953 - val_decoded_mean_acc: 0.4180 - val_pred_acc: 0.4830\n",
            "\n",
            "Epoch 00015: saving model to drive/My Drive/imdb/model_100/rnn_ae-15-0.42-0.70.h5\n",
            "Epoch 16/50\n",
            "2000/2000 [==============================] - 86s 43ms/step - loss: 2.0230 - decoded_mean_loss: 1.3305 - pred_loss: 0.6925 - decoded_mean_acc: 0.4089 - pred_acc: 0.5225 - val_loss: 2.0080 - val_decoded_mean_loss: 1.3127 - val_pred_loss: 0.6953 - val_decoded_mean_acc: 0.4167 - val_pred_acc: 0.4830\n",
            "\n",
            "Epoch 00016: saving model to drive/My Drive/imdb/model_100/rnn_ae-16-0.42-0.70.h5\n",
            "Epoch 17/50\n",
            "2000/2000 [==============================] - 87s 43ms/step - loss: 2.0207 - decoded_mean_loss: 1.3285 - pred_loss: 0.6922 - decoded_mean_acc: 0.4107 - pred_acc: 0.5225 - val_loss: 2.0024 - val_decoded_mean_loss: 1.3089 - val_pred_loss: 0.6936 - val_decoded_mean_acc: 0.4188 - val_pred_acc: 0.4850\n",
            "\n",
            "Epoch 00017: saving model to drive/My Drive/imdb/model_100/rnn_ae-17-0.42-0.69.h5\n",
            "Epoch 18/50\n",
            "2000/2000 [==============================] - 87s 43ms/step - loss: 2.0211 - decoded_mean_loss: 1.3282 - pred_loss: 0.6929 - decoded_mean_acc: 0.4107 - pred_acc: 0.5225 - val_loss: 2.0060 - val_decoded_mean_loss: 1.3101 - val_pred_loss: 0.6959 - val_decoded_mean_acc: 0.4181 - val_pred_acc: 0.4830\n",
            "\n",
            "Epoch 00018: saving model to drive/My Drive/imdb/model_100/rnn_ae-18-0.42-0.70.h5\n",
            "Epoch 19/50\n",
            "2000/2000 [==============================] - 86s 43ms/step - loss: 2.0211 - decoded_mean_loss: 1.3284 - pred_loss: 0.6926 - decoded_mean_acc: 0.4095 - pred_acc: 0.5225 - val_loss: 2.0052 - val_decoded_mean_loss: 1.3099 - val_pred_loss: 0.6953 - val_decoded_mean_acc: 0.4191 - val_pred_acc: 0.4830\n",
            "\n",
            "Epoch 00019: saving model to drive/My Drive/imdb/model_100/rnn_ae-19-0.42-0.70.h5\n",
            "Epoch 20/50\n",
            "2000/2000 [==============================] - 86s 43ms/step - loss: 2.0204 - decoded_mean_loss: 1.3279 - pred_loss: 0.6926 - decoded_mean_acc: 0.4111 - pred_acc: 0.5225 - val_loss: 2.0051 - val_decoded_mean_loss: 1.3102 - val_pred_loss: 0.6949 - val_decoded_mean_acc: 0.4173 - val_pred_acc: 0.4830\n",
            "\n",
            "Epoch 00020: saving model to drive/My Drive/imdb/model_100/rnn_ae-20-0.42-0.69.h5\n",
            "Epoch 21/50\n",
            "2000/2000 [==============================] - 86s 43ms/step - loss: 2.0196 - decoded_mean_loss: 1.3271 - pred_loss: 0.6925 - decoded_mean_acc: 0.4117 - pred_acc: 0.5225 - val_loss: 2.0097 - val_decoded_mean_loss: 1.3145 - val_pred_loss: 0.6952 - val_decoded_mean_acc: 0.4147 - val_pred_acc: 0.4830\n",
            "\n",
            "Epoch 00021: saving model to drive/My Drive/imdb/model_100/rnn_ae-21-0.41-0.70.h5\n",
            "Epoch 22/50\n",
            "2000/2000 [==============================] - 86s 43ms/step - loss: 2.0188 - decoded_mean_loss: 1.3265 - pred_loss: 0.6923 - decoded_mean_acc: 0.4119 - pred_acc: 0.5225 - val_loss: 2.0083 - val_decoded_mean_loss: 1.3128 - val_pred_loss: 0.6956 - val_decoded_mean_acc: 0.4153 - val_pred_acc: 0.4830\n",
            "\n",
            "Epoch 00022: saving model to drive/My Drive/imdb/model_100/rnn_ae-22-0.42-0.70.h5\n",
            "Epoch 23/50\n",
            "1990/2000 [============================>.] - ETA: 0s - loss: 2.0175 - decoded_mean_loss: 1.3251 - pred_loss: 0.6924 - decoded_mean_acc: 0.4130 - pred_acc: 0.5226"
          ],
          "name": "stdout"
        },
        {
          "output_type": "error",
          "ename": "KeyboardInterrupt",
          "evalue": "ignored",
          "traceback": [
            "\u001b[0;31m---------------------------------------------------------------------------\u001b[0m",
            "\u001b[0;31mKeyboardInterrupt\u001b[0m                         Traceback (most recent call last)",
            "\u001b[0;32m<ipython-input-22-2da0ffaf5447>\u001b[0m in \u001b[0;36m<module>\u001b[0;34m()\u001b[0m\n\u001b[0;32m----> 1\u001b[0;31m \u001b[0mtrain\u001b[0m\u001b[0;34m(\u001b[0m\u001b[0;34m)\u001b[0m\u001b[0;34m\u001b[0m\u001b[0;34m\u001b[0m\u001b[0m\n\u001b[0m",
            "\u001b[0;32m<ipython-input-21-1feaf4a5ac63>\u001b[0m in \u001b[0;36mtrain\u001b[0;34m()\u001b[0m\n\u001b[1;32m      8\u001b[0m     model.autoencoder.fit(x=X_train, y={'decoded_mean': X_train_one_hot, 'pred': y_train},\n\u001b[1;32m      9\u001b[0m                           \u001b[0mbatch_size\u001b[0m\u001b[0;34m=\u001b[0m\u001b[0;36m10\u001b[0m\u001b[0;34m,\u001b[0m \u001b[0mepochs\u001b[0m\u001b[0;34m=\u001b[0m\u001b[0;36m50\u001b[0m\u001b[0;34m,\u001b[0m \u001b[0mcallbacks\u001b[0m\u001b[0;34m=\u001b[0m\u001b[0;34m[\u001b[0m\u001b[0mcheckpointer\u001b[0m\u001b[0;34m]\u001b[0m\u001b[0;34m,\u001b[0m\u001b[0;34m\u001b[0m\u001b[0;34m\u001b[0m\u001b[0m\n\u001b[0;32m---> 10\u001b[0;31m                           validation_data=(X_test, {'decoded_mean': x_test_one_hot, 'pred':  y_test}))\n\u001b[0m",
            "\u001b[0;32m/usr/local/lib/python3.6/dist-packages/keras/engine/training.py\u001b[0m in \u001b[0;36mfit\u001b[0;34m(self, x, y, batch_size, epochs, verbose, callbacks, validation_split, validation_data, shuffle, class_weight, sample_weight, initial_epoch, steps_per_epoch, validation_steps, validation_freq, max_queue_size, workers, use_multiprocessing, **kwargs)\u001b[0m\n\u001b[1;32m   1176\u001b[0m                                         \u001b[0msteps_per_epoch\u001b[0m\u001b[0;34m=\u001b[0m\u001b[0msteps_per_epoch\u001b[0m\u001b[0;34m,\u001b[0m\u001b[0;34m\u001b[0m\u001b[0;34m\u001b[0m\u001b[0m\n\u001b[1;32m   1177\u001b[0m                                         \u001b[0mvalidation_steps\u001b[0m\u001b[0;34m=\u001b[0m\u001b[0mvalidation_steps\u001b[0m\u001b[0;34m,\u001b[0m\u001b[0;34m\u001b[0m\u001b[0;34m\u001b[0m\u001b[0m\n\u001b[0;32m-> 1178\u001b[0;31m                                         validation_freq=validation_freq)\n\u001b[0m\u001b[1;32m   1179\u001b[0m \u001b[0;34m\u001b[0m\u001b[0m\n\u001b[1;32m   1180\u001b[0m     def evaluate(self,\n",
            "\u001b[0;32m/usr/local/lib/python3.6/dist-packages/keras/engine/training_arrays.py\u001b[0m in \u001b[0;36mfit_loop\u001b[0;34m(model, fit_function, fit_inputs, out_labels, batch_size, epochs, verbose, callbacks, val_function, val_inputs, shuffle, callback_metrics, initial_epoch, steps_per_epoch, validation_steps, validation_freq)\u001b[0m\n\u001b[1;32m    216\u001b[0m                                          \u001b[0mbatch_size\u001b[0m\u001b[0;34m=\u001b[0m\u001b[0mbatch_size\u001b[0m\u001b[0;34m,\u001b[0m\u001b[0;34m\u001b[0m\u001b[0;34m\u001b[0m\u001b[0m\n\u001b[1;32m    217\u001b[0m                                          \u001b[0mcallbacks\u001b[0m\u001b[0;34m=\u001b[0m\u001b[0mcallbacks\u001b[0m\u001b[0;34m,\u001b[0m\u001b[0;34m\u001b[0m\u001b[0;34m\u001b[0m\u001b[0m\n\u001b[0;32m--> 218\u001b[0;31m                                          verbose=0)\n\u001b[0m\u001b[1;32m    219\u001b[0m                     \u001b[0mval_outs\u001b[0m \u001b[0;34m=\u001b[0m \u001b[0mto_list\u001b[0m\u001b[0;34m(\u001b[0m\u001b[0mval_outs\u001b[0m\u001b[0;34m)\u001b[0m\u001b[0;34m\u001b[0m\u001b[0;34m\u001b[0m\u001b[0m\n\u001b[1;32m    220\u001b[0m                     \u001b[0;31m# Same labels assumed.\u001b[0m\u001b[0;34m\u001b[0m\u001b[0;34m\u001b[0m\u001b[0;34m\u001b[0m\u001b[0m\n",
            "\u001b[0;32m/usr/local/lib/python3.6/dist-packages/keras/engine/training_arrays.py\u001b[0m in \u001b[0;36mtest_loop\u001b[0;34m(model, f, ins, batch_size, verbose, steps, callbacks)\u001b[0m\n\u001b[1;32m    462\u001b[0m                 \u001b[0mins_batch\u001b[0m \u001b[0;34m=\u001b[0m \u001b[0mslice_arrays\u001b[0m\u001b[0;34m(\u001b[0m\u001b[0mins\u001b[0m\u001b[0;34m[\u001b[0m\u001b[0;34m:\u001b[0m\u001b[0;34m-\u001b[0m\u001b[0;36m1\u001b[0m\u001b[0;34m]\u001b[0m\u001b[0;34m,\u001b[0m \u001b[0mbatch_ids\u001b[0m\u001b[0;34m)\u001b[0m \u001b[0;34m+\u001b[0m \u001b[0;34m[\u001b[0m\u001b[0mins\u001b[0m\u001b[0;34m[\u001b[0m\u001b[0;34m-\u001b[0m\u001b[0;36m1\u001b[0m\u001b[0;34m]\u001b[0m\u001b[0;34m]\u001b[0m\u001b[0;34m\u001b[0m\u001b[0;34m\u001b[0m\u001b[0m\n\u001b[1;32m    463\u001b[0m             \u001b[0;32melse\u001b[0m\u001b[0;34m:\u001b[0m\u001b[0;34m\u001b[0m\u001b[0;34m\u001b[0m\u001b[0m\n\u001b[0;32m--> 464\u001b[0;31m                 \u001b[0mins_batch\u001b[0m \u001b[0;34m=\u001b[0m \u001b[0mslice_arrays\u001b[0m\u001b[0;34m(\u001b[0m\u001b[0mins\u001b[0m\u001b[0;34m,\u001b[0m \u001b[0mbatch_ids\u001b[0m\u001b[0;34m)\u001b[0m\u001b[0;34m\u001b[0m\u001b[0;34m\u001b[0m\u001b[0m\n\u001b[0m\u001b[1;32m    465\u001b[0m             \u001b[0;32mfor\u001b[0m \u001b[0mi\u001b[0m \u001b[0;32min\u001b[0m \u001b[0mindices_for_conversion_to_dense\u001b[0m\u001b[0;34m:\u001b[0m\u001b[0;34m\u001b[0m\u001b[0;34m\u001b[0m\u001b[0m\n\u001b[1;32m    466\u001b[0m                 \u001b[0mins_batch\u001b[0m\u001b[0;34m[\u001b[0m\u001b[0mi\u001b[0m\u001b[0;34m]\u001b[0m \u001b[0;34m=\u001b[0m \u001b[0mins_batch\u001b[0m\u001b[0;34m[\u001b[0m\u001b[0mi\u001b[0m\u001b[0;34m]\u001b[0m\u001b[0;34m.\u001b[0m\u001b[0mtoarray\u001b[0m\u001b[0;34m(\u001b[0m\u001b[0;34m)\u001b[0m\u001b[0;34m\u001b[0m\u001b[0;34m\u001b[0m\u001b[0m\n",
            "\u001b[0;32m/usr/local/lib/python3.6/dist-packages/keras/utils/generic_utils.py\u001b[0m in \u001b[0;36mslice_arrays\u001b[0;34m(arrays, start, stop)\u001b[0m\n\u001b[1;32m    553\u001b[0m             \u001b[0;32mif\u001b[0m \u001b[0mhasattr\u001b[0m\u001b[0;34m(\u001b[0m\u001b[0mstart\u001b[0m\u001b[0;34m,\u001b[0m \u001b[0;34m'shape'\u001b[0m\u001b[0;34m)\u001b[0m\u001b[0;34m:\u001b[0m\u001b[0;34m\u001b[0m\u001b[0;34m\u001b[0m\u001b[0m\n\u001b[1;32m    554\u001b[0m                 \u001b[0mstart\u001b[0m \u001b[0;34m=\u001b[0m \u001b[0mstart\u001b[0m\u001b[0;34m.\u001b[0m\u001b[0mtolist\u001b[0m\u001b[0;34m(\u001b[0m\u001b[0;34m)\u001b[0m\u001b[0;34m\u001b[0m\u001b[0;34m\u001b[0m\u001b[0m\n\u001b[0;32m--> 555\u001b[0;31m             \u001b[0;32mreturn\u001b[0m \u001b[0;34m[\u001b[0m\u001b[0;32mNone\u001b[0m \u001b[0;32mif\u001b[0m \u001b[0mx\u001b[0m \u001b[0;32mis\u001b[0m \u001b[0;32mNone\u001b[0m \u001b[0;32melse\u001b[0m \u001b[0mx\u001b[0m\u001b[0;34m[\u001b[0m\u001b[0mstart\u001b[0m\u001b[0;34m]\u001b[0m \u001b[0;32mfor\u001b[0m \u001b[0mx\u001b[0m \u001b[0;32min\u001b[0m \u001b[0marrays\u001b[0m\u001b[0;34m]\u001b[0m\u001b[0;34m\u001b[0m\u001b[0;34m\u001b[0m\u001b[0m\n\u001b[0m\u001b[1;32m    556\u001b[0m         \u001b[0;32melse\u001b[0m\u001b[0;34m:\u001b[0m\u001b[0;34m\u001b[0m\u001b[0;34m\u001b[0m\u001b[0m\n\u001b[1;32m    557\u001b[0m             \u001b[0;32mreturn\u001b[0m \u001b[0;34m[\u001b[0m\u001b[0;32mNone\u001b[0m \u001b[0;32mif\u001b[0m \u001b[0mx\u001b[0m \u001b[0;32mis\u001b[0m \u001b[0;32mNone\u001b[0m \u001b[0;32melse\u001b[0m \u001b[0mx\u001b[0m\u001b[0;34m[\u001b[0m\u001b[0mstart\u001b[0m\u001b[0;34m:\u001b[0m\u001b[0mstop\u001b[0m\u001b[0;34m]\u001b[0m \u001b[0;32mfor\u001b[0m \u001b[0mx\u001b[0m \u001b[0;32min\u001b[0m \u001b[0marrays\u001b[0m\u001b[0;34m]\u001b[0m\u001b[0;34m\u001b[0m\u001b[0;34m\u001b[0m\u001b[0m\n",
            "\u001b[0;32m/usr/local/lib/python3.6/dist-packages/keras/utils/generic_utils.py\u001b[0m in \u001b[0;36m<listcomp>\u001b[0;34m(.0)\u001b[0m\n\u001b[1;32m    553\u001b[0m             \u001b[0;32mif\u001b[0m \u001b[0mhasattr\u001b[0m\u001b[0;34m(\u001b[0m\u001b[0mstart\u001b[0m\u001b[0;34m,\u001b[0m \u001b[0;34m'shape'\u001b[0m\u001b[0;34m)\u001b[0m\u001b[0;34m:\u001b[0m\u001b[0;34m\u001b[0m\u001b[0;34m\u001b[0m\u001b[0m\n\u001b[1;32m    554\u001b[0m                 \u001b[0mstart\u001b[0m \u001b[0;34m=\u001b[0m \u001b[0mstart\u001b[0m\u001b[0;34m.\u001b[0m\u001b[0mtolist\u001b[0m\u001b[0;34m(\u001b[0m\u001b[0;34m)\u001b[0m\u001b[0;34m\u001b[0m\u001b[0;34m\u001b[0m\u001b[0m\n\u001b[0;32m--> 555\u001b[0;31m             \u001b[0;32mreturn\u001b[0m \u001b[0;34m[\u001b[0m\u001b[0;32mNone\u001b[0m \u001b[0;32mif\u001b[0m \u001b[0mx\u001b[0m \u001b[0;32mis\u001b[0m \u001b[0;32mNone\u001b[0m \u001b[0;32melse\u001b[0m \u001b[0mx\u001b[0m\u001b[0;34m[\u001b[0m\u001b[0mstart\u001b[0m\u001b[0;34m]\u001b[0m \u001b[0;32mfor\u001b[0m \u001b[0mx\u001b[0m \u001b[0;32min\u001b[0m \u001b[0marrays\u001b[0m\u001b[0;34m]\u001b[0m\u001b[0;34m\u001b[0m\u001b[0;34m\u001b[0m\u001b[0m\n\u001b[0m\u001b[1;32m    556\u001b[0m         \u001b[0;32melse\u001b[0m\u001b[0;34m:\u001b[0m\u001b[0;34m\u001b[0m\u001b[0;34m\u001b[0m\u001b[0m\n\u001b[1;32m    557\u001b[0m             \u001b[0;32mreturn\u001b[0m \u001b[0;34m[\u001b[0m\u001b[0;32mNone\u001b[0m \u001b[0;32mif\u001b[0m \u001b[0mx\u001b[0m \u001b[0;32mis\u001b[0m \u001b[0;32mNone\u001b[0m \u001b[0;32melse\u001b[0m \u001b[0mx\u001b[0m\u001b[0;34m[\u001b[0m\u001b[0mstart\u001b[0m\u001b[0;34m:\u001b[0m\u001b[0mstop\u001b[0m\u001b[0;34m]\u001b[0m \u001b[0;32mfor\u001b[0m \u001b[0mx\u001b[0m \u001b[0;32min\u001b[0m \u001b[0marrays\u001b[0m\u001b[0;34m]\u001b[0m\u001b[0;34m\u001b[0m\u001b[0;34m\u001b[0m\u001b[0m\n",
            "\u001b[0;31mKeyboardInterrupt\u001b[0m: "
          ]
        }
      ]
    },
    {
      "cell_type": "code",
      "metadata": {
        "id": "isn7Qu7IlRz7",
        "colab_type": "code",
        "colab": {}
      },
      "source": [
        "enc = model.encoder.predict(X_train)"
      ],
      "execution_count": 0,
      "outputs": []
    },
    {
      "cell_type": "code",
      "metadata": {
        "id": "QFpgWcbAvcl6",
        "colab_type": "code",
        "outputId": "f715e343-d75f-4dd2-e43d-362392813615",
        "colab": {
          "base_uri": "https://localhost:8080/",
          "height": 34
        }
      },
      "source": [
        "print(enc.shape)"
      ],
      "execution_count": 0,
      "outputs": [
        {
          "output_type": "stream",
          "text": [
            "(2000, 200)\n"
          ],
          "name": "stdout"
        }
      ]
    },
    {
      "cell_type": "code",
      "metadata": {
        "id": "Vqna1fXpq5Oz",
        "colab_type": "code",
        "outputId": "2ef1837c-9617-4d1f-b871-cb3e951a6d1c",
        "colab": {
          "base_uri": "https://localhost:8080/",
          "height": 34
        }
      },
      "source": [
        "print(y_train.shape)"
      ],
      "execution_count": 0,
      "outputs": [
        {
          "output_type": "stream",
          "text": [
            "(2000,)\n"
          ],
          "name": "stdout"
        }
      ]
    },
    {
      "cell_type": "code",
      "metadata": {
        "id": "DxwfKnzVq7tX",
        "colab_type": "code",
        "colab": {}
      },
      "source": [
        "from sklearn.manifold import TSNE\n",
        "tsne = TSNE(n_components=2, random_state=0)"
      ],
      "execution_count": 0,
      "outputs": []
    },
    {
      "cell_type": "code",
      "metadata": {
        "id": "9U4Zet9kv5tY",
        "colab_type": "code",
        "colab": {}
      },
      "source": [
        "X_2d = tsne.fit_transform(enc)"
      ],
      "execution_count": 0,
      "outputs": []
    },
    {
      "cell_type": "code",
      "metadata": {
        "id": "80Ia8yCmv7sP",
        "colab_type": "code",
        "colab": {}
      },
      "source": [
        "target_names = [0, 1]\n",
        "target_ids = range(len(target_names))"
      ],
      "execution_count": 0,
      "outputs": []
    },
    {
      "cell_type": "code",
      "metadata": {
        "id": "p5aSW80fwCiq",
        "colab_type": "code",
        "outputId": "91d7824d-0792-40c2-ded5-9cbb010078ab",
        "colab": {
          "base_uri": "https://localhost:8080/",
          "height": 34
        }
      },
      "source": [
        "print(target_ids)"
      ],
      "execution_count": 0,
      "outputs": [
        {
          "output_type": "stream",
          "text": [
            "range(0, 2)\n"
          ],
          "name": "stdout"
        }
      ]
    },
    {
      "cell_type": "code",
      "metadata": {
        "id": "0OVUU3aTwUQt",
        "colab_type": "code",
        "outputId": "8bb5d3c0-e7b9-41a0-e840-e598292712e3",
        "colab": {
          "base_uri": "https://localhost:8080/",
          "height": 320
        }
      },
      "source": [
        "from matplotlib import pyplot as plt\n",
        "plt.figure(figsize=(6, 5))\n",
        "colors = 'r', 'g'\n",
        "for i, c, label in zip(target_ids, colors, target_names):\n",
        "    plt.scatter(X_2d[y_train==i, 0], X_2d[y_train==i, 1], c=c, label=label)\n",
        "plt.legend()\n",
        "plt.show()"
      ],
      "execution_count": 0,
      "outputs": [
        {
          "output_type": "display_data",
          "data": {
            "image/png": "[encoded data removed]",
            "text/plain": [
              "<Figure size 432x360 with 1 Axes>"
            ]
          },
          "metadata": {
            "tags": []
          }
        }
      ]
    },
    {
      "cell_type": "code",
      "metadata": {
        "id": "e2WZklg_wbvq",
        "colab_type": "code",
        "colab": {}
      },
      "source": [
        ""
      ],
      "execution_count": 0,
      "outputs": []
    }
  ]
}